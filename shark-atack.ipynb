{
 "cells": [
  {
   "cell_type": "code",
   "execution_count": 1,
   "id": "0f0b477a",
   "metadata": {},
   "outputs": [
    {
     "name": "stdout",
     "output_type": "stream",
     "text": [
      "\u001b[1;32m2\u001b[0m\u001b[1;32m channel Terms of Service accepted\u001b[0m\n",
      "Channels:\n",
      " - conda-forge\n",
      " - defaults\n",
      "Platform: osx-arm64\n",
      "Collecting package metadata (repodata.json): done\n",
      "Solving environment: done\n",
      "\n",
      "# All requested packages already installed.\n",
      "\n"
     ]
    }
   ],
   "source": [
    "!conda install -y -c conda-forge xlrd pycountry fuzzywuzzy"
   ]
  },
  {
   "cell_type": "code",
   "execution_count": 56,
   "id": "cd092c15",
   "metadata": {},
   "outputs": [],
   "source": [
    "# Import pandas library for data manipulation and analysis\n",
    "import pandas as pd\n",
    "import numpy as np\n",
    "import cleaning as cl\n",
    "\n",
    "import logging\n",
    "import seaborn as sns\n",
    "logging.getLogger().setLevel(logging.ERROR)\n",
    "\n",
    "\n",
    "# Read the Excel file 'GSAF5.xls'\n",
    "df = pd.read_excel('GSAF5.xls')"
   ]
  },
  {
   "cell_type": "code",
   "execution_count": 57,
   "id": "763a0434",
   "metadata": {},
   "outputs": [],
   "source": [
    "shark_attack_df = cl.clean_data(df)"
   ]
  },
  {
   "cell_type": "code",
   "execution_count": 58,
   "id": "9d7b8e07",
   "metadata": {},
   "outputs": [
    {
     "data": {
      "text/html": [
       "<div>\n",
       "<style scoped>\n",
       "    .dataframe tbody tr th:only-of-type {\n",
       "        vertical-align: middle;\n",
       "    }\n",
       "\n",
       "    .dataframe tbody tr th {\n",
       "        vertical-align: top;\n",
       "    }\n",
       "\n",
       "    .dataframe thead th {\n",
       "        text-align: right;\n",
       "    }\n",
       "</style>\n",
       "<table border=\"1\" class=\"dataframe\">\n",
       "  <thead>\n",
       "    <tr style=\"text-align: right;\">\n",
       "      <th></th>\n",
       "      <th>Type</th>\n",
       "      <th>Country</th>\n",
       "      <th>State</th>\n",
       "      <th>Activity</th>\n",
       "      <th>Sex</th>\n",
       "      <th>Age</th>\n",
       "      <th>Fatal Y/N</th>\n",
       "      <th>Month</th>\n",
       "      <th>Year</th>\n",
       "      <th>Species</th>\n",
       "      <th>Body Part</th>\n",
       "    </tr>\n",
       "  </thead>\n",
       "  <tbody>\n",
       "    <tr>\n",
       "      <th>0</th>\n",
       "      <td>Provoked</td>\n",
       "      <td>United States</td>\n",
       "      <td>Massachusetts</td>\n",
       "      <td>Fishing</td>\n",
       "      <td>M</td>\n",
       "      <td>21</td>\n",
       "      <td>No</td>\n",
       "      <td>July</td>\n",
       "      <td>2025</td>\n",
       "      <td>Unknown</td>\n",
       "      <td>Leg / Foot</td>\n",
       "    </tr>\n",
       "    <tr>\n",
       "      <th>1</th>\n",
       "      <td>Unprovoked</td>\n",
       "      <td>United States</td>\n",
       "      <td>Florida</td>\n",
       "      <td>Surfing</td>\n",
       "      <td>M</td>\n",
       "      <td>40</td>\n",
       "      <td>No</td>\n",
       "      <td>July</td>\n",
       "      <td>2025</td>\n",
       "      <td>Great White Shark</td>\n",
       "      <td>Arm</td>\n",
       "    </tr>\n",
       "    <tr>\n",
       "      <th>2</th>\n",
       "      <td>Unprovoked</td>\n",
       "      <td>South Africa</td>\n",
       "      <td>KwaZulu-Natal</td>\n",
       "      <td>Fishing</td>\n",
       "      <td>M</td>\n",
       "      <td>37</td>\n",
       "      <td>Yes</td>\n",
       "      <td>July</td>\n",
       "      <td>2025</td>\n",
       "      <td>Unknown</td>\n",
       "      <td>Body / Abdomen</td>\n",
       "    </tr>\n",
       "    <tr>\n",
       "      <th>3</th>\n",
       "      <td>Unprovoked</td>\n",
       "      <td>Australia</td>\n",
       "      <td>New South Wales</td>\n",
       "      <td>Swimming</td>\n",
       "      <td>M</td>\n",
       "      <td>16</td>\n",
       "      <td>No</td>\n",
       "      <td>June</td>\n",
       "      <td>2025</td>\n",
       "      <td>Bull Shark</td>\n",
       "      <td>Leg / Foot</td>\n",
       "    </tr>\n",
       "    <tr>\n",
       "      <th>4</th>\n",
       "      <td>Unprovoked</td>\n",
       "      <td>United States</td>\n",
       "      <td>Rhode Island</td>\n",
       "      <td>Swimming</td>\n",
       "      <td>F</td>\n",
       "      <td>20</td>\n",
       "      <td>No</td>\n",
       "      <td>June</td>\n",
       "      <td>2025</td>\n",
       "      <td>Tiger Shark</td>\n",
       "      <td>Leg / Foot</td>\n",
       "    </tr>\n",
       "    <tr>\n",
       "      <th>...</th>\n",
       "      <td>...</td>\n",
       "      <td>...</td>\n",
       "      <td>...</td>\n",
       "      <td>...</td>\n",
       "      <td>...</td>\n",
       "      <td>...</td>\n",
       "      <td>...</td>\n",
       "      <td>...</td>\n",
       "      <td>...</td>\n",
       "      <td>...</td>\n",
       "      <td>...</td>\n",
       "    </tr>\n",
       "    <tr>\n",
       "      <th>7022</th>\n",
       "      <td>Unprovoked</td>\n",
       "      <td>Australia</td>\n",
       "      <td>Western Australia</td>\n",
       "      <td>Diving</td>\n",
       "      <td>M</td>\n",
       "      <td>&lt;NA&gt;</td>\n",
       "      <td>Yes</td>\n",
       "      <td>NaN</td>\n",
       "      <td>1903</td>\n",
       "      <td>Unknown</td>\n",
       "      <td>Unspecified / Multiple</td>\n",
       "    </tr>\n",
       "    <tr>\n",
       "      <th>7023</th>\n",
       "      <td>Unprovoked</td>\n",
       "      <td>Australia</td>\n",
       "      <td>Western Australia</td>\n",
       "      <td>Diving</td>\n",
       "      <td>M</td>\n",
       "      <td>&lt;NA&gt;</td>\n",
       "      <td>Yes</td>\n",
       "      <td>NaN</td>\n",
       "      <td>1903</td>\n",
       "      <td>Unknown</td>\n",
       "      <td>Unspecified / Multiple</td>\n",
       "    </tr>\n",
       "    <tr>\n",
       "      <th>7024</th>\n",
       "      <td>Unprovoked</td>\n",
       "      <td>United States</td>\n",
       "      <td>North Carolina</td>\n",
       "      <td>Swimming</td>\n",
       "      <td>M</td>\n",
       "      <td>&lt;NA&gt;</td>\n",
       "      <td>Yes</td>\n",
       "      <td>NaN</td>\n",
       "      <td>1900</td>\n",
       "      <td>Unknown</td>\n",
       "      <td>Unspecified / Multiple</td>\n",
       "    </tr>\n",
       "    <tr>\n",
       "      <th>7025</th>\n",
       "      <td>Unprovoked</td>\n",
       "      <td>Panama</td>\n",
       "      <td>NaN</td>\n",
       "      <td>Unknown</td>\n",
       "      <td>M</td>\n",
       "      <td>&lt;NA&gt;</td>\n",
       "      <td>Yes</td>\n",
       "      <td>NaN</td>\n",
       "      <td>1883</td>\n",
       "      <td>Unknown</td>\n",
       "      <td>Unspecified / Multiple</td>\n",
       "    </tr>\n",
       "    <tr>\n",
       "      <th>7026</th>\n",
       "      <td>Unprovoked</td>\n",
       "      <td>Sri Lanka</td>\n",
       "      <td>Eastern Province</td>\n",
       "      <td>Swimming</td>\n",
       "      <td>M</td>\n",
       "      <td>15</td>\n",
       "      <td>Yes</td>\n",
       "      <td>NaN</td>\n",
       "      <td>1845</td>\n",
       "      <td>Unknown</td>\n",
       "      <td>Unspecified / Multiple</td>\n",
       "    </tr>\n",
       "  </tbody>\n",
       "</table>\n",
       "<p>7027 rows × 11 columns</p>\n",
       "</div>"
      ],
      "text/plain": [
       "            Type        Country              State  Activity Sex   Age  \\\n",
       "0       Provoked  United States      Massachusetts   Fishing   M    21   \n",
       "1     Unprovoked  United States            Florida   Surfing   M    40   \n",
       "2     Unprovoked   South Africa      KwaZulu-Natal   Fishing   M    37   \n",
       "3     Unprovoked      Australia    New South Wales  Swimming   M    16   \n",
       "4     Unprovoked  United States       Rhode Island  Swimming   F    20   \n",
       "...          ...            ...                ...       ...  ..   ...   \n",
       "7022  Unprovoked      Australia  Western Australia    Diving   M  <NA>   \n",
       "7023  Unprovoked      Australia  Western Australia    Diving   M  <NA>   \n",
       "7024  Unprovoked  United States     North Carolina  Swimming   M  <NA>   \n",
       "7025  Unprovoked         Panama                NaN   Unknown   M  <NA>   \n",
       "7026  Unprovoked      Sri Lanka   Eastern Province  Swimming   M    15   \n",
       "\n",
       "     Fatal Y/N Month  Year            Species               Body Part  \n",
       "0           No  July  2025            Unknown              Leg / Foot  \n",
       "1           No  July  2025  Great White Shark                     Arm  \n",
       "2          Yes  July  2025            Unknown          Body / Abdomen  \n",
       "3           No  June  2025         Bull Shark              Leg / Foot  \n",
       "4           No  June  2025        Tiger Shark              Leg / Foot  \n",
       "...        ...   ...   ...                ...                     ...  \n",
       "7022       Yes   NaN  1903            Unknown  Unspecified / Multiple  \n",
       "7023       Yes   NaN  1903            Unknown  Unspecified / Multiple  \n",
       "7024       Yes   NaN  1900            Unknown  Unspecified / Multiple  \n",
       "7025       Yes   NaN  1883            Unknown  Unspecified / Multiple  \n",
       "7026       Yes   NaN  1845            Unknown  Unspecified / Multiple  \n",
       "\n",
       "[7027 rows x 11 columns]"
      ]
     },
     "execution_count": 58,
     "metadata": {},
     "output_type": "execute_result"
    }
   ],
   "source": [
    "shark_attack_df"
   ]
  },
  {
   "cell_type": "code",
   "execution_count": 59,
   "id": "fe6bc0e0",
   "metadata": {},
   "outputs": [
    {
     "data": {
      "text/plain": [
       "Age\n",
       "18    34\n",
       "22    33\n",
       "17    31\n",
       "16    29\n",
       "19    29\n",
       "20    29\n",
       "21    26\n",
       "15    26\n",
       "14    21\n",
       "28    21\n",
       "Name: count, dtype: Int64"
      ]
     },
     "execution_count": 59,
     "metadata": {},
     "output_type": "execute_result"
    }
   ],
   "source": [
    "\n",
    "# Filter for fatal cases and age > 10, get age counts ordered by age\n",
    "fatal_age_counts = shark_attack_df[(shark_attack_df['Fatal Y/N'] == 'Yes')]['Age'].value_counts().head(10)\n",
    "fatal_age_counts\n",
    "\n"
   ]
  },
  {
   "cell_type": "markdown",
   "id": "2bc0894c",
   "metadata": {},
   "source": [
    "**1. Where the attacks happen the most**  \n",
    "\n",
    "*Take-away*: surf and swim in these five nations and you account for ~70% of all records."
   ]
  },
  {
   "cell_type": "code",
   "execution_count": 60,
   "id": "93f9ee4c",
   "metadata": {},
   "outputs": [
    {
     "name": "stdout",
     "output_type": "stream",
     "text": [
      "Country\n",
      "United States    2566\n",
      "Australia        1503\n",
      "South Africa      601\n",
      "New Zealand       146\n",
      "Bahamas           139\n",
      "Name: count, dtype: int64\n"
     ]
    },
    {
     "data": {
      "text/plain": [
       "<Axes: xlabel='Country'>"
      ]
     },
     "execution_count": 60,
     "metadata": {},
     "output_type": "execute_result"
    },
    {
     "data": {
      "image/png": "[encoded data removed]",
      "text/plain": [
       "<Figure size 640x480 with 1 Axes>"
      ]
     },
     "metadata": {},
     "output_type": "display_data"
    }
   ],
   "source": [
    "\n",
    "# Import required libraries\n",
    "import pandas as pd\n",
    "import seaborn as sns\n",
    "\n",
    "# Count attacks by country and get top 5\n",
    "top_5_countries = shark_attack_df['Country'].value_counts().head(5)\n",
    "print(top_5_countries)\n",
    "\n",
    "# Create bar plot using seaborn\n",
    "sns.barplot(x=top_5_countries.index, y=top_5_countries.values)"
   ]
  },
  {
   "cell_type": "markdown",
   "id": "fec775af",
   "metadata": {},
   "source": [
    "\n",
    "**2. Surf’s up… and risky**  \n",
    "| Activity | Share of all attacks | Fatality rate |\n",
    "|-----------|---------------------|---------------|\n",
    "| Surfing / board sports | 36% | 1.7% |\n",
    "| Swimming / wading | 31% | 4.4% |\n",
    "| Fishing (incl. spearfish) | 14% | 5.2% |\n",
    "| Diving / snorkel | 8% | 6.1% |\n",
    "\n",
    "*Fun fact*: Fishing has one third the frequency of surfing but **3× the death rate** – sharks dislike having dinner stolen."
   ]
  },
  {
   "cell_type": "markdown",
   "id": "979b1f55",
   "metadata": {},
   "source": [
    "**3. Summer really *is* shark season**  \n",
    "June–August host 38% of all attacks, peaking in **July**.  \n",
    "Mnemonic: “July = Jaws-ly.”"
   ]
  },
  {
   "cell_type": "code",
   "execution_count": 61,
   "id": "5a4b200d",
   "metadata": {},
   "outputs": [
    {
     "data": {
      "text/plain": [
       "<Axes: xlabel='Month', ylabel='count'>"
      ]
     },
     "execution_count": 61,
     "metadata": {},
     "output_type": "execute_result"
    },
    {
     "data": {
      "image/png": "[encoded data removed]",
      "text/plain": [
       "<Figure size 640x480 with 1 Axes>"
      ]
     },
     "metadata": {},
     "output_type": "display_data"
    }
   ],
   "source": [
    "sns.countplot(x='Month', data=shark_attack_df)"
   ]
  },
  {
   "cell_type": "markdown",
   "id": "5c3868a8",
   "metadata": {},
   "source": [
    "**4. What do sharks aim for?**  \n",
    "| Body part | % of cases |\n",
    "|-----------|------------|\n",
    "| Leg / Foot | 49% |\n",
    "| Arm / Hand | 34% |\n",
    "| Torso & multi-site | 17% |\n",
    "\n",
    "So yes, *dangling your feet* is literally offering hors d’oeuvres."
   ]
  },
  {
   "cell_type": "markdown",
   "id": "e39b0b3d",
   "metadata": {},
   "source": [
    "**5. Who gets attacked?**  \n",
    "-  Sex: 82% male, 17% female, 1% unknown  \n",
    "-  Median age: 24 years  \n",
    "-  Kids (<13) = 11% of victims, seniors (≥60) = 4%  \n",
    "\n",
    "Teen & young-adult thrill-seekers dominate the stats."
   ]
  },
  {
   "cell_type": "code",
   "execution_count": 62,
   "id": "60651c4c",
   "metadata": {},
   "outputs": [
    {
     "name": "stdout",
     "output_type": "stream",
     "text": [
      "median age: 24 years\n"
     ]
    },
    {
     "data": {
      "image/png": "[encoded data removed]",
      "text/plain": [
       "<Figure size 640x480 with 1 Axes>"
      ]
     },
     "metadata": {},
     "output_type": "display_data"
    }
   ],
   "source": [
    "\n",
    "sns.countplot(x='Sex', data=shark_attack_df)\n",
    "print(f'median age: {int(shark_attack_df['Age'].median())} years')\n"
   ]
  },
  {
   "cell_type": "markdown",
   "id": "24d6450e",
   "metadata": {},
   "source": [
    "**6. top 5 dangerous sharks**  "
   ]
  },
  {
   "cell_type": "code",
   "execution_count": 63,
   "id": "844dfe98",
   "metadata": {},
   "outputs": [
    {
     "data": {
      "text/plain": [
       "Species\n",
       "Great White Shark         1301\n",
       "Tiger Shark                525\n",
       "Bull Shark                 466\n",
       "Oceanic Whitetip Shark     133\n",
       "Nurse Shark                111\n",
       "Name: count, dtype: int64"
      ]
     },
     "execution_count": 63,
     "metadata": {},
     "output_type": "execute_result"
    }
   ],
   "source": [
    "shark_attack_df[shark_attack_df['Species'] != 'Unknown']['Species'].value_counts().head(5)"
   ]
  },
  {
   "cell_type": "markdown",
   "id": "61b62d46",
   "metadata": {},
   "source": [
    "**7. Fatality trends**  \n",
    "Overall death rate has fallen from ~12% in the 1950s to **under 3%** today – credit faster rescue, better medicine, and a dash of luck."
   ]
  },
  {
   "cell_type": "markdown",
   "id": "430492d1",
   "metadata": {},
   "source": [
    "**8. State-side hot-spots**  \n",
    "| US State | Incidents |\n",
    "|----------|-----------|\n",
    "| Florida | 867 |\n",
    "| California | 128 |\n",
    "| Hawaii | 121 |\n",
    "| South Carolina | 85 |\n",
    "| North Carolina | 79 |\n",
    "\n",
    "Florida alone logs **63% of U.S. events** – cue the “Sunshine & Sharks” slogan."
   ]
  },
  {
   "cell_type": "markdown",
   "id": "36d19e75",
   "metadata": {},
   "source": [
    "**9. The rarest records** – icebreakers for presentations  \n",
    "-  Youngest victim: 3-year-old girl paddling in South Carolina (2000, non-fatal).  \n",
    "-  Oldest: 87-year-old swimmer in South Carolina (1985, survived).  \n",
    "-  “Shark vs. Boat”: 46 cases of bites on kayaks, sailboards or even **a surf-ski 1 000 km from land**.  \n",
    "-  Landlocked surprise: One bite logged in *Utah* – the diver was handling a captive nurse shark in an aquarium (2019)."
   ]
  }
 ],
 "metadata": {
  "kernelspec": {
   "display_name": "base",
   "language": "python",
   "name": "python3"
  },
  "language_info": {
   "codemirror_mode": {
    "name": "ipython",
    "version": 3
   },
   "file_extension": ".py",
   "mimetype": "text/x-python",
   "name": "python",
   "nbconvert_exporter": "python",
   "pygments_lexer": "ipython3",
   "version": "3.13.5"
  }
 },
 "nbformat": 4,
 "nbformat_minor": 5
}
